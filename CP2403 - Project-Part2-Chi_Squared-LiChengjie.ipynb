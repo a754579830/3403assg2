{
 "cells": [
  {
   "cell_type": "markdown",
   "metadata": {},
   "source": [
    "# First Name: Li \n",
    "# Last Name: Chengjie"
   ]
  },
  {
   "cell_type": "markdown",
   "metadata": {},
   "source": [
    "# Import Libraries  "
   ]
  },
  {
   "cell_type": "code",
   "execution_count": 87,
   "metadata": {},
   "outputs": [],
   "source": [
    "import pandas as pd\n",
    "import numpy as np\n",
    "import scipy.stats\n",
    "import seaborn as sns\n",
    "import matplotlib.pyplot as plt"
   ]
  },
  {
   "cell_type": "markdown",
   "metadata": {},
   "source": [
    "# Import Data"
   ]
  },
  {
   "cell_type": "code",
   "execution_count": 88,
   "metadata": {},
   "outputs": [
    {
     "name": "stderr",
     "output_type": "stream",
     "text": [
      "C:\\Users\\flab\\anaconda3\\lib\\site-packages\\IPython\\core\\interactiveshell.py:3165: DtypeWarning: Columns (48,74) have mixed types.Specify dtype option on import or set low_memory=False.\n",
      "  has_raised = await self.run_ast_nodes(code_ast.body, cell_name,\n"
     ]
    },
    {
     "data": {
      "text/html": [
       "<div>\n",
       "<style scoped>\n",
       "    .dataframe tbody tr th:only-of-type {\n",
       "        vertical-align: middle;\n",
       "    }\n",
       "\n",
       "    .dataframe tbody tr th {\n",
       "        vertical-align: top;\n",
       "    }\n",
       "\n",
       "    .dataframe thead th {\n",
       "        text-align: right;\n",
       "    }\n",
       "</style>\n",
       "<table border=\"1\" class=\"dataframe\">\n",
       "  <thead>\n",
       "    <tr style=\"text-align: right;\">\n",
       "      <th></th>\n",
       "      <th>Cst_Cnt</th>\n",
       "      <th>Btl_Cnt</th>\n",
       "      <th>Sta_ID</th>\n",
       "      <th>Date</th>\n",
       "      <th>Depth_ID</th>\n",
       "      <th>Depthm</th>\n",
       "      <th>T_degC</th>\n",
       "      <th>Salnty</th>\n",
       "      <th>O2ml_L</th>\n",
       "      <th>STheta</th>\n",
       "      <th>...</th>\n",
       "      <th>R_PHAEO</th>\n",
       "      <th>R_PRES</th>\n",
       "      <th>R_SAMP</th>\n",
       "      <th>DIC1</th>\n",
       "      <th>DIC2</th>\n",
       "      <th>TA1</th>\n",
       "      <th>TA2</th>\n",
       "      <th>pH2</th>\n",
       "      <th>pH1</th>\n",
       "      <th>DIC Quality Comment</th>\n",
       "    </tr>\n",
       "  </thead>\n",
       "  <tbody>\n",
       "    <tr>\n",
       "      <th>0</th>\n",
       "      <td>1</td>\n",
       "      <td>1</td>\n",
       "      <td>054.0 056.0</td>\n",
       "      <td>1949-03</td>\n",
       "      <td>19-4903CR-HY-060-0930-05400560-0000A-3</td>\n",
       "      <td>0</td>\n",
       "      <td>10.5</td>\n",
       "      <td>33.44</td>\n",
       "      <td>NaN</td>\n",
       "      <td>25.649</td>\n",
       "      <td>...</td>\n",
       "      <td>NaN</td>\n",
       "      <td>0</td>\n",
       "      <td>NaN</td>\n",
       "      <td>NaN</td>\n",
       "      <td>NaN</td>\n",
       "      <td>NaN</td>\n",
       "      <td>NaN</td>\n",
       "      <td>NaN</td>\n",
       "      <td>NaN</td>\n",
       "      <td>NaN</td>\n",
       "    </tr>\n",
       "  </tbody>\n",
       "</table>\n",
       "<p>1 rows × 75 columns</p>\n",
       "</div>"
      ],
      "text/plain": [
       "   Cst_Cnt  Btl_Cnt       Sta_ID     Date  \\\n",
       "0        1        1  054.0 056.0  1949-03   \n",
       "\n",
       "                                 Depth_ID  Depthm  T_degC  Salnty  O2ml_L  \\\n",
       "0  19-4903CR-HY-060-0930-05400560-0000A-3       0    10.5   33.44     NaN   \n",
       "\n",
       "   STheta  ...  R_PHAEO  R_PRES  R_SAMP  DIC1  DIC2  TA1  TA2  pH2  pH1  \\\n",
       "0  25.649  ...      NaN       0     NaN   NaN   NaN  NaN  NaN  NaN  NaN   \n",
       "\n",
       "   DIC Quality Comment  \n",
       "0                  NaN  \n",
       "\n",
       "[1 rows x 75 columns]"
      ]
     },
     "execution_count": 88,
     "metadata": {},
     "output_type": "execute_result"
    }
   ],
   "source": [
    "bottle = pd.read_csv('bottle.csv')\n",
    "bottle.head(1)"
   ]
  },
  {
   "cell_type": "markdown",
   "metadata": {},
   "source": [
    "# Data management "
   ]
  },
  {
   "cell_type": "code",
   "execution_count": 89,
   "metadata": {},
   "outputs": [],
   "source": [
    "#bottle. info()"
   ]
  },
  {
   "cell_type": "code",
   "execution_count": 90,
   "metadata": {},
   "outputs": [],
   "source": [
    "sub1=bottle[(bottle['Depthm']>=0)]\n",
    "sub2=sub1.copy()"
   ]
  },
  {
   "cell_type": "code",
   "execution_count": 91,
   "metadata": {},
   "outputs": [],
   "source": [
    "recode2 = {1:1, 2:2.5, 3:4, 4:8, 5:14, 6:26, 7:30}\n",
    "sub2['Depthm']= sub2['Depthm'].map(recode2)\n"
   ]
  },
  {
   "cell_type": "code",
   "execution_count": 92,
   "metadata": {},
   "outputs": [
    {
     "name": "stdout",
     "output_type": "stream",
     "text": [
      "R_PRES     1     2     3    4     5    6    7  8\n",
      "Depthm                                          \n",
      "1.0     7437     5     0    0     0    0    0  0\n",
      "2.5        0  6411     0    0     0    0    0  0\n",
      "4.0        0     0  1130    0     0    0    0  0\n",
      "8.0        0     0     0  443     1    0    0  0\n",
      "14.0       0     0     0    0  1132    0    0  0\n",
      "26.0       0     0     0    0     0  589    0  0\n",
      "30.0       0     0     0    0     0    0  333  9\n"
     ]
    }
   ],
   "source": [
    "ct1= pd.crosstab(sub2['Depthm'], sub2['R_PRES'])\n",
    "print (ct1) "
   ]
  },
  {
   "cell_type": "markdown",
   "metadata": {},
   "source": [
    "# Chart/Plot"
   ]
  },
  {
   "cell_type": "code",
   "execution_count": 93,
   "metadata": {},
   "outputs": [
    {
     "name": "stderr",
     "output_type": "stream",
     "text": [
      "C:\\Users\\flab\\anaconda3\\lib\\site-packages\\seaborn\\categorical.py:3714: UserWarning: The `factorplot` function has been renamed to `catplot`. The original name will be removed in a future release. Please update your code. Note that the default `kind` in `factorplot` (`'point'`) has changed `'strip'` in `catplot`.\n",
      "  warnings.warn(msg)\n"
     ]
    },
    {
     "data": {
      "text/plain": [
       "Text(16.424999999999997, 0.5, 'pressure')"
      ]
     },
     "execution_count": 93,
     "metadata": {},
     "output_type": "execute_result"
    },
    {
     "data": {
      "image/png": "[encoded data removed]",
      "text/plain": [
       "<Figure size 360x360 with 1 Axes>"
      ]
     },
     "metadata": {
      "needs_background": "light"
     },
     "output_type": "display_data"
    }
   ],
   "source": [
    "%matplotlib inline\n",
    "sns.factorplot(x=\"Depthm\", y=\"R_PRES\", data=sub2, kind=\"bar\", ci=None)\n",
    "plt.xlabel('depth')\n",
    "plt.ylabel('pressure')"
   ]
  },
  {
   "cell_type": "markdown",
   "metadata": {},
   "source": [
    "# CHI_Squared"
   ]
  },
  {
   "cell_type": "code",
   "execution_count": 25,
   "metadata": {},
   "outputs": [
    {
     "name": "stdout",
     "output_type": "stream",
     "text": [
      "R_PRES    1         2    3    4         5    6    7    8\n",
      "Depthm                                                  \n",
      "1.0     0.0  0.000000  0.0  0.0  0.000000  0.0  1.0  1.0\n",
      "2.5     0.0  0.000000  0.0  0.0  0.000000  1.0  0.0  0.0\n",
      "4.0     0.0  0.000000  0.0  0.0  0.999117  0.0  0.0  0.0\n",
      "8.0     0.0  0.000000  0.0  1.0  0.000883  0.0  0.0  0.0\n",
      "14.0    0.0  0.000000  1.0  0.0  0.000000  0.0  0.0  0.0\n",
      "26.0    0.0  0.999221  0.0  0.0  0.000000  0.0  0.0  0.0\n",
      "30.0    1.0  0.000779  0.0  0.0  0.000000  0.0  0.0  0.0\n"
     ]
    }
   ],
   "source": [
    "colsum= ct1.sum(axis=0)\n",
    "colpct= ct1/colsum\n",
    "print(colpct)"
   ]
  },
  {
   "cell_type": "code",
   "execution_count": 26,
   "metadata": {},
   "outputs": [
    {
     "name": "stdout",
     "output_type": "stream",
     "text": [
      "chi-square value, p value, expected counts\n",
      "(104859.83427920558, 0.0, 42, array([[1.45423328e+02, 1.25458662e+02, 2.20960549e+01, 8.66243568e+00,\n",
      "        2.21547170e+01, 1.15173242e+01, 6.51149228e+00, 1.75986278e-01],\n",
      "       [2.50451286e+02, 2.16067696e+02, 3.80543168e+01, 1.49186392e+01,\n",
      "        3.81553459e+01, 1.98353917e+01, 1.12142367e+01, 3.03087479e-01],\n",
      "       [4.81342710e+02, 4.15260835e+02, 7.31366495e+01, 2.86721555e+01,\n",
      "        7.33308176e+01, 3.81216695e+01, 2.15526587e+01, 5.82504288e-01],\n",
      "       [1.88795197e+02, 1.62876158e+02, 2.86861063e+01, 1.12459691e+01,\n",
      "        2.87622642e+01, 1.49523156e+01, 8.45351630e+00, 2.28473413e-01],\n",
      "       [4.80492281e+02, 4.14527158e+02, 7.30074328e+01, 2.86214980e+01,\n",
      "        7.32012579e+01, 3.80543168e+01, 2.15145798e+01, 5.81475129e-01],\n",
      "       [2.72604957e+03, 2.35179966e+03, 4.14204117e+02, 1.62382676e+02,\n",
      "        4.15303774e+02, 2.15899314e+02, 1.22061921e+02, 3.29897084e+00],\n",
      "       [3.16444563e+03, 2.73000983e+03, 4.80815323e+02, 1.88496627e+02,\n",
      "        4.82091824e+02, 2.50619668e+02, 1.41691595e+02, 3.82950257e+00]]))\n"
     ]
    }
   ],
   "source": [
    "print ('chi-square value, p value, expected counts')\n",
    "cs1= scipy.stats.chi2_contingency(ct1) \n",
    "print (cs1)"
   ]
  },
  {
   "cell_type": "markdown",
   "metadata": {},
   "source": [
    "# conclusion"
   ]
  },
  {
   "attachments": {},
   "cell_type": "markdown",
   "metadata": {},
   "source": [
    "Indicates that there is there is no difference in the pressure rate between Depthm and R_PRES \n",
    "Accept null hypothesis\n"
   ]
  },
  {
   "cell_type": "code",
   "execution_count": null,
   "metadata": {},
   "outputs": [],
   "source": []
  }
 ],
 "metadata": {
  "kernelspec": {
   "display_name": "Python 3",
   "language": "python",
   "name": "python3"
  },
  "language_info": {
   "codemirror_mode": {
    "name": "ipython",
    "version": 3
   },
   "file_extension": ".py",
   "mimetype": "text/x-python",
   "name": "python",
   "nbconvert_exporter": "python",
   "pygments_lexer": "ipython3",
   "version": "3.8.8"
  }
 },
 "nbformat": 4,
 "nbformat_minor": 2
}
